{
 "cells": [
  {
   "cell_type": "markdown",
   "metadata": {},
   "source": [
    "## Teste de conexão com MYSQL"
   ]
  },
  {
   "cell_type": "code",
   "execution_count": null,
   "metadata": {},
   "outputs": [],
   "source": [
    "import mysql.connector\n",
    "\n",
    "def connect_to_mysql():\n",
    "    try:\n",
    "        connection = mysql.connector.connect(\n",
    "            host=\"localhost\",\n",
    "            user=\"admin\",\n",
    "            password=\"4dm1n\",\n",
    "            database=\"admin\"\n",
    "        )\n",
    "\n",
    "        if connection.is_connected():\n",
    "            print(\"Conexão bem-sucedida ao MySQL!\")\n",
    "            cursor = connection.cursor()\n",
    "            cursor.execute(\"SELECT DATABASE();\")\n",
    "            record = cursor.fetchone()\n",
    "            print(\"Conectado ao banco de dados:\", record)\n",
    "            cursor.close()\n",
    "            connection.close()\n",
    "    except mysql.connector.Error as err:\n",
    "        print(\"Erro ao conectar ao MySQL:\", err)\n",
    "\n",
    "if __name__ == \"__main__\":\n",
    "    connect_to_mysql()"
   ]
  },
  {
   "cell_type": "markdown",
   "metadata": {},
   "source": [
    "## Teste de consulta na base de dados de exemplo\n",
    "Abaixo segue um exemplo simplificado de uma consulta, e a serialização em JSON"
   ]
  },
  {
   "cell_type": "code",
   "execution_count": 6,
   "metadata": {},
   "outputs": [
    {
     "name": "stdout",
     "output_type": "stream",
     "text": [
      "Conexão ao banco de dados realizada com sucesso!\n",
      "Pedidos do cliente ID 1:\n",
      "\n",
      "                    Pedido ID: 1\n",
      "                    Data: 2025-02-26 02:33:57\n",
      "                    Status: Recebido\n",
      "                    Total: R$85.00\n",
      "                    Cliente: João Silva\n",
      "                    \n",
      "Conexão ao banco de dados fechada.\n"
     ]
    }
   ],
   "source": [
    "import mysql.connector\n",
    "\n",
    "# Função para conectar ao banco de dados\n",
    "def conectar_banco():\n",
    "    try:\n",
    "        conexao = mysql.connector.connect(\n",
    "            host=\"localhost\",  # Endereço do servidor MySQL\n",
    "            user=\"root\",  # Nome de usuário do MySQL\n",
    "            password=\"my5ql\",  # Senha do MySQL\n",
    "            database=\"pizzaria\"  # Nome do banco de dados\n",
    "        )\n",
    "        print(\"Conexão ao banco de dados realizada com sucesso!\")\n",
    "        return conexao\n",
    "    except mysql.connector.Error as err:\n",
    "        print(f\"Erro ao conectar ao banco de dados: {err}\")\n",
    "        return None\n",
    "\n",
    "# Função para consultar os pedidos de um cliente específico\n",
    "def consultar_pedidos_por_cliente(cliente_id):\n",
    "    conexao = conectar_banco()\n",
    "    if conexao:\n",
    "        try:\n",
    "            cursor = conexao.cursor(dictionary=True)  # Usar dictionary=True para retornar resultados como dicionários\n",
    "            query = \"\"\"\n",
    "            SELECT p.PedidoID, p.DataPedido, p.Status, p.Total, c.Nome AS Cliente\n",
    "            FROM Pedidos p\n",
    "            JOIN Clientes c ON p.ClienteID = c.ClienteID\n",
    "            WHERE p.ClienteID = %s\n",
    "            \"\"\"\n",
    "            cursor.execute(query, (cliente_id,))\n",
    "            resultados = cursor.fetchall()\n",
    "\n",
    "            if resultados:\n",
    "                print(f\"Pedidos do cliente ID {cliente_id}:\")\n",
    "                for pedido in resultados:\n",
    "                    print(f\"\"\"\n",
    "                    Pedido ID: {pedido['PedidoID']}\n",
    "                    Data: {pedido['DataPedido']}\n",
    "                    Status: {pedido['Status']}\n",
    "                    Total: R${pedido['Total']:.2f}\n",
    "                    Cliente: {pedido['Cliente']}\n",
    "                    \"\"\")\n",
    "            else:\n",
    "                print(f\"Nenhum pedido encontrado para o cliente ID {cliente_id}.\")\n",
    "\n",
    "        except mysql.connector.Error as err:\n",
    "            print(f\"Erro ao executar a consulta: {err}\")\n",
    "        finally:\n",
    "            cursor.close()\n",
    "            conexao.close()\n",
    "            print(\"Conexão ao banco de dados fechada.\")\n",
    "\n",
    "# Executar a consulta\n",
    "if __name__ == \"__main__\":\n",
    "    cliente_id = 1  # ID do cliente que você deseja consultar\n",
    "    consultar_pedidos_por_cliente(cliente_id)"
   ]
  }
 ],
 "metadata": {
  "kernelspec": {
   "display_name": "Python 3",
   "language": "python",
   "name": "python3"
  },
  "language_info": {
   "codemirror_mode": {
    "name": "ipython",
    "version": 3
   },
   "file_extension": ".py",
   "mimetype": "text/x-python",
   "name": "python",
   "nbconvert_exporter": "python",
   "pygments_lexer": "ipython3",
   "version": "3.10.11"
  }
 },
 "nbformat": 4,
 "nbformat_minor": 2
}
